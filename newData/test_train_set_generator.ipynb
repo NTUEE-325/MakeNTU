{
 "cells": [
  {
   "cell_type": "code",
   "execution_count": 79,
   "id": "368887f7",
   "metadata": {},
   "outputs": [
    {
     "name": "stdout",
     "output_type": "stream",
     "text": [
      "(7260, 9)\n"
     ]
    },
    {
     "data": {
      "text/plain": [
       "numpy.ndarray"
      ]
     },
     "execution_count": 79,
     "metadata": {},
     "output_type": "execute_result"
    }
   ],
   "source": [
    "import pandas as pd\n",
    "\n",
    "data = pd.read_csv(\"rainy_day_all.csv\").values\n",
    "print(data.shape)\n",
    "# print(data)\n",
    "type(data)"
   ]
  },
  {
   "cell_type": "code",
   "execution_count": 80,
   "id": "e1cadfc7",
   "metadata": {},
   "outputs": [],
   "source": [
    "import numpy as np\n",
    "data = np.reshape(data,(11, 660, 9))"
   ]
  },
  {
   "cell_type": "code",
   "execution_count": 81,
   "id": "79b73106",
   "metadata": {},
   "outputs": [],
   "source": [
    "from random import sample\n",
    "from math import *\n",
    "\n",
    "test_num = sample(range(data.shape[0]),ceil(data.shape[0]/5))"
   ]
  },
  {
   "cell_type": "code",
   "execution_count": 82,
   "id": "ace35bec",
   "metadata": {},
   "outputs": [
    {
     "data": {
      "text/plain": [
       "[8, 9, 5]"
      ]
     },
     "execution_count": 82,
     "metadata": {},
     "output_type": "execute_result"
    }
   ],
   "source": [
    "test_num"
   ]
  },
  {
   "cell_type": "code",
   "execution_count": 83,
   "id": "17aae47b",
   "metadata": {},
   "outputs": [],
   "source": [
    "test_set = np.zeros((len(test_num), 660, 9))\n",
    "j = 0\n",
    "for i in test_num:\n",
    "    test_set[j] = data[i]\n",
    "    j += 1\n",
    "test_set = np.reshape(test_set, (len(test_num)*660, 9))"
   ]
  },
  {
   "cell_type": "code",
   "execution_count": 84,
   "id": "fe5a22d6",
   "metadata": {},
   "outputs": [],
   "source": [
    "import csv\n",
    "with open(\"rainy_day_test_set.csv\", 'w', newline = '') as csvfile:\n",
    "  writer = csv.writer(csvfile)\n",
    "  # print(type(results))\n",
    "  for i in test_set:\n",
    "    writer.writerow(i)"
   ]
  },
  {
   "cell_type": "code",
   "execution_count": 85,
   "id": "e3fa86d0",
   "metadata": {},
   "outputs": [
    {
     "data": {
      "text/plain": [
       "[0, 1, 2, 3, 4, 6, 7, 10]"
      ]
     },
     "execution_count": 85,
     "metadata": {},
     "output_type": "execute_result"
    }
   ],
   "source": [
    "train_num = [e for e in range(data.shape[0]) if e not in test_num]\n",
    "train_num"
   ]
  },
  {
   "cell_type": "code",
   "execution_count": 86,
   "id": "4d5f4d19",
   "metadata": {},
   "outputs": [],
   "source": [
    "train_set = np.zeros((len(train_num), 660, 9))\n",
    "j = 0\n",
    "for i in train_num:\n",
    "    train_set[j] = data[i]\n",
    "    j += 1\n",
    "train_set = np.reshape(train_set, (len(train_num)*660, 9))"
   ]
  },
  {
   "cell_type": "code",
   "execution_count": 87,
   "id": "438b2e64",
   "metadata": {},
   "outputs": [],
   "source": [
    "import csv\n",
    "with open(\"rainy_day_train_set.csv\", 'w', newline = '') as csvfile:\n",
    "  writer = csv.writer(csvfile)\n",
    "  # print(type(results))\n",
    "  for i in train_set:\n",
    "    writer.writerow(i)"
   ]
  },
  {
   "cell_type": "code",
   "execution_count": null,
   "id": "deab1d01",
   "metadata": {},
   "outputs": [],
   "source": []
  }
 ],
 "metadata": {
  "kernelspec": {
   "display_name": "Python 3 (ipykernel)",
   "language": "python",
   "name": "python3"
  },
  "language_info": {
   "codemirror_mode": {
    "name": "ipython",
    "version": 3
   },
   "file_extension": ".py",
   "mimetype": "text/x-python",
   "name": "python",
   "nbconvert_exporter": "python",
   "pygments_lexer": "ipython3",
   "version": "3.9.7"
  }
 },
 "nbformat": 4,
 "nbformat_minor": 5
}
